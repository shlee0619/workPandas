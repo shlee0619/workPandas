{
  "nbformat": 4,
  "nbformat_minor": 0,
  "metadata": {
    "colab": {
      "provenance": [],
      "authorship_tag": "ABX9TyN2lJmHA7MdWu0y/+2ouJdb",
      "include_colab_link": true
    },
    "kernelspec": {
      "name": "python3",
      "display_name": "Python 3"
    },
    "language_info": {
      "name": "python"
    }
  },
  "cells": [
    {
      "cell_type": "markdown",
      "metadata": {
        "id": "view-in-github",
        "colab_type": "text"
      },
      "source": [
        "<a href=\"https://colab.research.google.com/github/shlee0619/workPandas/blob/main/1127%EC%8B%A4%EC%8A%B52.ipynb\" target=\"_parent\"><img src=\"https://colab.research.google.com/assets/colab-badge.svg\" alt=\"Open In Colab\"/></a>"
      ]
    },
    {
      "cell_type": "code",
      "execution_count": 1,
      "metadata": {
        "id": "7EmdBhh0lfni"
      },
      "outputs": [],
      "source": [
        "import pandas as pd\n",
        "\n",
        "import numpy as np\n",
        "import matplotlib.pyplot as plt\n",
        "from scipy.stats import linregress"
      ]
    },
    {
      "cell_type": "code",
      "source": [
        "# 응답 시간 데이터\n",
        "response = [14.5, 13.4, 12.7, 16.4, 21.0, 13.9, 17.3, 12.5, 16.7, 22.7]\n",
        "\n",
        "# 추측 횟수 데이터\n",
        "count = [5, 7, 6, 2, 4, 3, 12, 5, 4, 3]"
      ],
      "metadata": {
        "id": "yFve2Z7Gln91"
      },
      "execution_count": 9,
      "outputs": []
    },
    {
      "cell_type": "code",
      "source": [
        "# 회귀 분석 수행\n",
        "slope, intercept, r_value, p_value, std_err = linregress(count, response)\n",
        "\n",
        "# 결과 출력\n",
        "print(f\"기울기 (slope, b): {slope}\")\n",
        "print(f\"절편 (intercept, a): {intercept}\")\n"
      ],
      "metadata": {
        "colab": {
          "base_uri": "https://localhost:8080/"
        },
        "id": "hTPozKWPlrVT",
        "outputId": "58a4c2a8-35d9-4d52-f874-be811c79e0eb"
      },
      "execution_count": 10,
      "outputs": [
        {
          "output_type": "stream",
          "name": "stdout",
          "text": [
            "기울기 (slope, b): -0.21412894375857322\n",
            "절편 (intercept, a): 17.202057613168723\n"
          ]
        }
      ]
    },
    {
      "cell_type": "code",
      "source": [
        "print(f\"회귀 방정식: 응답 시간 = {intercept:.2f} + {slope:.2f} × 추측 횟수\")"
      ],
      "metadata": {
        "colab": {
          "base_uri": "https://localhost:8080/"
        },
        "id": "Kmnp07FaltXD",
        "outputId": "ffe3b8ad-69ae-4df5-d699-bd751f3f4cfb"
      },
      "execution_count": 11,
      "outputs": [
        {
          "output_type": "stream",
          "name": "stdout",
          "text": [
            "회귀 방정식: 응답 시간 = 17.20 + -0.21 × 추측 횟수\n"
          ]
        }
      ]
    },
    {
      "cell_type": "code",
      "source": [
        "print(f\"상관 계수 (r): {r_value:.4f}\")\n",
        "print(f\"p-값: {p_value:.4f}\")\n",
        "print(f\"기울기의 표준 오차: {std_err:.4f}\")\n"
      ],
      "metadata": {
        "colab": {
          "base_uri": "https://localhost:8080/"
        },
        "id": "QfL5wTQnlvzT",
        "outputId": "6b5b1ed7-2474-424b-ebb0-889c4b77e1ae"
      },
      "execution_count": 12,
      "outputs": [
        {
          "output_type": "stream",
          "name": "stdout",
          "text": [
            "상관 계수 (r): -0.1754\n",
            "p-값: 0.6279\n",
            "기울기의 표준 오차: 0.4250\n"
          ]
        }
      ]
    },
    {
      "cell_type": "code",
      "source": [],
      "metadata": {
        "id": "24l1CkK_nC9F"
      },
      "execution_count": null,
      "outputs": []
    },
    {
      "cell_type": "code",
      "source": [
        "predicted_response = intercept + slope * np.array(count)\n",
        "# count 는, np로 array를 수정할 것.\n",
        "\n",
        "\n",
        "# 결과를 데이터프레임으로 정리\n",
        "results_df = pd.DataFrame({\n",
        "    '추측 횟수': count,\n",
        "    '실제 응답 시간': response,\n",
        "    '예측된 응답 시간': predicted_response\n",
        "})\n",
        "\n",
        "# 소수 둘째 자리까지 반올림\n",
        "results_df = results_df.round(2)\n",
        "\n",
        "print(results_df)"
      ],
      "metadata": {
        "colab": {
          "base_uri": "https://localhost:8080/"
        },
        "id": "tywIYGkwl5h0",
        "outputId": "0de4471c-ec95-4fd3-e3f4-2b5a728e9848"
      },
      "execution_count": 15,
      "outputs": [
        {
          "output_type": "stream",
          "name": "stdout",
          "text": [
            "   추측 횟수  실제 응답 시간  예측된 응답 시간\n",
            "0      5      14.5      16.13\n",
            "1      7      13.4      15.70\n",
            "2      6      12.7      15.92\n",
            "3      2      16.4      16.77\n",
            "4      4      21.0      16.35\n",
            "5      3      13.9      16.56\n",
            "6     12      17.3      14.63\n",
            "7      5      12.5      16.13\n",
            "8      4      16.7      16.35\n",
            "9      3      22.7      16.56\n"
          ]
        }
      ]
    },
    {
      "cell_type": "code",
      "source": [
        "# 잔차 계산\n",
        "results_df['잔차 (실제 - 예측)'] = results_df['실제 응답 시간'] - results_df['예측된 응답 시간']\n",
        "\n",
        "# 소수 둘째 자리까지 반올림\n",
        "results_df = results_df.round(2)\n",
        "\n",
        "print(results_df)\n"
      ],
      "metadata": {
        "colab": {
          "base_uri": "https://localhost:8080/"
        },
        "id": "Q9t9Q0afmejb",
        "outputId": "e440b200-dd25-4118-f80d-29b7b549fc5e"
      },
      "execution_count": 16,
      "outputs": [
        {
          "output_type": "stream",
          "name": "stdout",
          "text": [
            "   추측 횟수  실제 응답 시간  예측된 응답 시간  잔차 (실제 - 예측)\n",
            "0      5      14.5      16.13         -1.63\n",
            "1      7      13.4      15.70         -2.30\n",
            "2      6      12.7      15.92         -3.22\n",
            "3      2      16.4      16.77         -0.37\n",
            "4      4      21.0      16.35          4.65\n",
            "5      3      13.9      16.56         -2.66\n",
            "6     12      17.3      14.63          2.67\n",
            "7      5      12.5      16.13         -3.63\n",
            "8      4      16.7      16.35          0.35\n",
            "9      3      22.7      16.56          6.14\n"
          ]
        }
      ]
    },
    {
      "cell_type": "code",
      "source": [
        "# 잔차 제곱 계산\n",
        "residuals_squared = (results_df['잔차 (실제 - 예측)']) ** 2\n",
        "\n",
        "# SSE (잔차 제곱합) 계산\n",
        "SSE = residuals_squared.sum()\n",
        "\n",
        "# 데이터 포인트의 수\n",
        "n = len(response)\n",
        "\n",
        "# 자유도 (독립 변수 1개인 경우 n - 2)\n",
        "degrees_of_freedom = n - 2\n",
        "\n",
        "# 표준 추정 오차 계산\n",
        "standard_error = np.sqrt(SSE / degrees_of_freedom)\n",
        "\n",
        "print(f\"표준 추정 오차 (Standard Error of Estimate): {standard_error:.4f}\")\n"
      ],
      "metadata": {
        "colab": {
          "base_uri": "https://localhost:8080/"
        },
        "id": "70undoUmmy2b",
        "outputId": "2b5fc3ed-da08-48d6-9637-a22acbef4670"
      },
      "execution_count": 17,
      "outputs": [
        {
          "output_type": "stream",
          "name": "stdout",
          "text": [
            "표준 추정 오차 (Standard Error of Estimate): 3.6276\n"
          ]
        }
      ]
    },
    {
      "cell_type": "code",
      "source": [],
      "metadata": {
        "id": "fRCun5t1m6O9"
      },
      "execution_count": null,
      "outputs": []
    }
  ]
}